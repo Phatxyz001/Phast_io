{
  "nbformat": 4,
  "nbformat_minor": 0,
  "metadata": {
    "colab": {
      "provenance": [],
      "include_colab_link": true
    },
    "kernelspec": {
      "name": "python3",
      "display_name": "Python 3"
    },
    "language_info": {
      "name": "python"
    }
  },
  "cells": [
    {
      "cell_type": "markdown",
      "metadata": {
        "id": "view-in-github",
        "colab_type": "text"
      },
      "source": [
        "<a href=\"https://colab.research.google.com/github/SalakoNeverDie/SalakoNeverDie.github.io/blob/main/Netflix_Cookie_Checker.ipynb\" target=\"_parent\"><img src=\"https://colab.research.google.com/assets/colab-badge.svg\" alt=\"Open In Colab\"/></a>"
      ]
    },
    {
      "cell_type": "markdown",
      "source": [
        "# Cách Dùng Netflix Cookies Checker ✅\n",
        "\n",
        "---\n",
        "\n",
        "\n",
        "\n",
        "Netflix Cookies Checker\n",
        "\n",
        "## Tham Gia [Discord Server](https://discord.gg/anarchyempire) Để Được Trợ Giúp !\n",
        "\n",
        "---\n",
        "\n"
      ],
      "metadata": {
        "id": "Ys-oAmjsYoK2"
      }
    },
    {
      "cell_type": "markdown",
      "source": [
        "## a) Upload Vào Folder Cookies cookies\n",
        "# ![image.png](data:image/png;base64,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)\n",
        "\n",
        "### Upload cookies vào folder ( Tạo Folder Nếu Như Không Có )"
      ],
      "metadata": {
        "id": "2bowpCGCUnNH"
      }
    },
    {
      "cell_type": "markdown",
      "source": [
        "## b) Tải Thư Viện Requirements"
      ],
      "metadata": {
        "id": "SBq0hIOeZY91"
      }
    },
    {
      "cell_type": "code",
      "source": [
        "!pip install selenium"
      ],
      "metadata": {
        "id": "L02F9qZXZgQX",
        "colab": {
          "base_uri": "https://localhost:8080/"
        },
        "outputId": "accece15-5a7d-458e-cad8-d26ecf2cea1c"
      },
      "execution_count": null,
      "outputs": [
        {
          "output_type": "stream",
          "name": "stdout",
          "text": [
            "Collecting selenium\n",
            "  Downloading selenium-4.16.0-py3-none-any.whl (10.0 MB)\n",
            "\u001b[2K     \u001b[90m━━━━━━━━━━━━━━━━━━━━━━━━━━━━━━━━━━━━━━━━\u001b[0m \u001b[32m10.0/10.0 MB\u001b[0m \u001b[31m40.9 MB/s\u001b[0m eta \u001b[36m0:00:00\u001b[0m\n",
            "\u001b[?25hRequirement already satisfied: urllib3[socks]<3,>=1.26 in /usr/local/lib/python3.10/dist-packages (from selenium) (2.0.7)\n",
            "Collecting trio~=0.17 (from selenium)\n",
            "  Downloading trio-0.23.1-py3-none-any.whl (448 kB)\n",
            "\u001b[2K     \u001b[90m━━━━━━━━━━━━━━━━━━━━━━━━━━━━━━━━━━━━━━━━\u001b[0m \u001b[32m448.3/448.3 kB\u001b[0m \u001b[31m36.7 MB/s\u001b[0m eta \u001b[36m0:00:00\u001b[0m\n",
            "\u001b[?25hCollecting trio-websocket~=0.9 (from selenium)\n",
            "  Downloading trio_websocket-0.11.1-py3-none-any.whl (17 kB)\n",
            "Requirement already satisfied: certifi>=2021.10.8 in /usr/local/lib/python3.10/dist-packages (from selenium) (2023.11.17)\n",
            "Requirement already satisfied: attrs>=20.1.0 in /usr/local/lib/python3.10/dist-packages (from trio~=0.17->selenium) (23.1.0)\n",
            "Requirement already satisfied: sortedcontainers in /usr/local/lib/python3.10/dist-packages (from trio~=0.17->selenium) (2.4.0)\n",
            "Requirement already satisfied: idna in /usr/local/lib/python3.10/dist-packages (from trio~=0.17->selenium) (3.6)\n",
            "Collecting outcome (from trio~=0.17->selenium)\n",
            "  Downloading outcome-1.3.0.post0-py2.py3-none-any.whl (10 kB)\n",
            "Requirement already satisfied: sniffio>=1.3.0 in /usr/local/lib/python3.10/dist-packages (from trio~=0.17->selenium) (1.3.0)\n",
            "Requirement already satisfied: exceptiongroup>=1.0.0rc9 in /usr/local/lib/python3.10/dist-packages (from trio~=0.17->selenium) (1.2.0)\n",
            "Collecting wsproto>=0.14 (from trio-websocket~=0.9->selenium)\n",
            "  Downloading wsproto-1.2.0-py3-none-any.whl (24 kB)\n",
            "Requirement already satisfied: pysocks!=1.5.7,<2.0,>=1.5.6 in /usr/local/lib/python3.10/dist-packages (from urllib3[socks]<3,>=1.26->selenium) (1.7.1)\n",
            "Collecting h11<1,>=0.9.0 (from wsproto>=0.14->trio-websocket~=0.9->selenium)\n",
            "  Downloading h11-0.14.0-py3-none-any.whl (58 kB)\n",
            "\u001b[2K     \u001b[90m━━━━━━━━━━━━━━━━━━━━━━━━━━━━━━━━━━━━━━━━\u001b[0m \u001b[32m58.3/58.3 kB\u001b[0m \u001b[31m6.9 MB/s\u001b[0m eta \u001b[36m0:00:00\u001b[0m\n",
            "\u001b[?25hInstalling collected packages: outcome, h11, wsproto, trio, trio-websocket, selenium\n",
            "Successfully installed h11-0.14.0 outcome-1.3.0.post0 selenium-4.16.0 trio-0.23.1 trio-websocket-0.11.1 wsproto-1.2.0\n"
          ]
        }
      ]
    },
    {
      "cell_type": "markdown",
      "source": [
        "## c) Chuyển Cookies Dạng Netscape Qua Json"
      ],
      "metadata": {
        "id": "NizmXcXaZnzu"
      }
    },
    {
      "cell_type": "code",
      "source": [
        "import json\n",
        "import os\n",
        "import random\n",
        "import shutil\n",
        "\n",
        "if os.name == \"posix\":\n",
        "    folder_path = \"cookies\"\n",
        "\n",
        "else:\n",
        "    while True:\n",
        "        import tkinter\n",
        "        from tkinter import filedialog\n",
        "\n",
        "        print(\"\\n<<< Select Netscape cookies folder >>>\\n\\n\")\n",
        "        tkinter.Tk().withdraw()\n",
        "        folder_path = filedialog.askdirectory()\n",
        "        if folder_path == \"\":\n",
        "            print(\"Trying to use default folder 'cookies'\\n\")\n",
        "            folder_path = \"cookies\"\n",
        "            break\n",
        "\n",
        "        else:\n",
        "            break\n",
        "\n",
        "rand_number = random.randint(1, 99999)\n",
        "\n",
        "\n",
        "def convert_netscape_cookie_to_json(cookie_file_content):\n",
        "    cookies = []\n",
        "    for line in cookie_file_content.splitlines():\n",
        "        fields = line.strip().split(\"\\t\")\n",
        "        if len(fields) >= 7:\n",
        "            cookie = {\n",
        "                \"domain\": fields[0].replace(\"www\", \"\"),\n",
        "                \"flag\": fields[1],\n",
        "                \"path\": fields[2],\n",
        "                \"secure\": fields[3] == \"TRUE\",\n",
        "                \"expiration\": fields[4],\n",
        "                \"name\": fields[5],\n",
        "                \"value\": fields[6],\n",
        "            }\n",
        "            cookies.append(cookie)\n",
        "\n",
        "    json_content = json.dumps(cookies, indent=4)\n",
        "    return json_content\n",
        "\n",
        "\n",
        "path = \"json_cookies\"\n",
        "try:\n",
        "    os.mkdir(path)\n",
        "    print(f\"Folder {path} created!\\n\")\n",
        "    try:\n",
        "        for filename in os.listdir(folder_path):\n",
        "            filepath = os.path.join(folder_path, filename)\n",
        "            if os.path.isfile(filepath):\n",
        "                with open(filepath, \"r\", encoding=\"utf-8\") as file:\n",
        "                    content = file.read()\n",
        "\n",
        "                json_data = convert_netscape_cookie_to_json(content)\n",
        "\n",
        "                with open(f\"json_cookies/{filename}\", \"w\", encoding=\"utf-8\") as f:\n",
        "                    f.write(json_data)\n",
        "                    print(f\"{filename} - DONE!\")\n",
        "    except FileNotFoundError:\n",
        "        print(\n",
        "            \"Error Occurred :Default 'cookies' folder not found, please create a folder named cookies and upload cookies to it.\"\n",
        "        )\n",
        "        os.rmdir(path)\n",
        "\n",
        "except FileExistsError:\n",
        "    if (\n",
        "        input(\n",
        "            \"Do you want to remove old cookies folder? (y/n)\\n [y] Recommended \\n > : \"\n",
        "        )\n",
        "        == \"y\"\n",
        "    ):\n",
        "        shutil.rmtree(path)\n",
        "        os.mkdir(path)\n",
        "        for filename in os.listdir(folder_path):\n",
        "            filepath = os.path.join(folder_path, filename)\n",
        "            if os.path.isfile(filepath):\n",
        "                with open(filepath, \"r\", encoding=\"utf-8\") as file:\n",
        "                    content = file.read()\n",
        "\n",
        "                json_data = convert_netscape_cookie_to_json(content)\n",
        "\n",
        "                with open(f\"json_cookies/{filename}\", \"w\", encoding=\"utf-8\") as f:\n",
        "                    f.write(json_data)\n",
        "                    print(f\"{filename} - DONE!\")\n",
        "\n",
        "    else:\n",
        "        os.mkdir(str(f\"temp {rand_number}\"))\n",
        "        for filename in os.listdir(folder_path):\n",
        "            filepath = os.path.join(folder_path, filename)\n",
        "            if os.path.isfile(filepath):\n",
        "                with open(filepath, \"r\") as file:\n",
        "                    content = file.read()\n",
        "\n",
        "                json_data = convert_netscape_cookie_to_json(content)\n",
        "\n",
        "                with open(f\"temp {rand_number}/{filename}\", \"w\", encoding=\"utf-8\") as f:\n",
        "                    f.write(json_data)\n",
        "                    print(f\"{filename} - DONE!\")\n",
        "\n",
        "        print(f\"\\n\\nsaved cookies to the temp folder - temp {rand_number}\")\n"
      ],
      "metadata": {
        "id": "qR0zqSqhT2gw",
        "colab": {
          "base_uri": "https://localhost:8080/"
        },
        "outputId": "44236e45-d16c-4062-c898-d20f4f9e9033"
      },
      "execution_count": null,
      "outputs": [
        {
          "output_type": "stream",
          "name": "stdout",
          "text": [
            "Folder json_cookies created!\n",
            "\n",
            "[Premium - Premium] [cindylouu55@yahoo.com].txt - DONE!\n",
            "[Premium - Premium] [moneylover09@yahoo.com].txt - DONE!\n",
            "[Standart - Estándar] [mariaelena.deleon@gmail.com].txt - DONE!\n",
            "[Premium - 高級] [daniel94092693@gmail.com].txt - DONE!\n",
            "[Basic - Basic] [darnelljay4@gmail.com].txt - DONE!\n",
            "[Premium - Premium] [chanthaheourn@gmail.com].txt - DONE!\n",
            "[Premium - Premium] [aprilrael@yahoo.com].txt - DONE!\n",
            "[Premium - Premium] [happy2bll@yahoo.com].txt - DONE!\n",
            "[Standart - Standard] [martingalvarado32@icloud.com].txt - DONE!\n",
            "[Premium - Premium] [donaldcadely@yahoo.com].txt - DONE!\n",
            "[Premium - Cao cấp] [aldaludi@icloud.com].txt - DONE!\n",
            "[Premium - Premium] [tmsmith0313@optonline.net].txt - DONE!\n"
          ]
        }
      ]
    },
    {
      "cell_type": "markdown",
      "source": [
        "## d) Chạy cookie checker"
      ],
      "metadata": {
        "id": "HsJWwG_XahOz"
      }
    },
    {
      "cell_type": "code",
      "source": [
        "import json\n",
        "import os\n",
        "from selenium import webdriver\n",
        "from selenium.webdriver.common.by import By\n",
        "\n",
        "working_cookies_path = \"working_cookies\"\n",
        "\n",
        "\n",
        "def load_cookies_from_json(FILEPATH):\n",
        "    with open(FILEPATH, \"r\") as cookie_file:\n",
        "        cookie = json.load(cookie_file)\n",
        "    return cookie\n",
        "\n",
        "\n",
        "def open_webpage_with_cookies(URL, COOKIES):\n",
        "    options = webdriver.ChromeOptions()\n",
        "    options.add_argument('--headless')\n",
        "    options.add_argument('--no-sandbox')\n",
        "    options.add_argument('--disable-dev-shm-usage')\n",
        "    driver = webdriver.Chrome(options=options)\n",
        "\n",
        "    driver.get(URL)\n",
        "\n",
        "    for cookie in COOKIES:\n",
        "        driver.add_cookie(cookie)\n",
        "    driver.refresh()\n",
        "    driver.get_cookies()\n",
        "\n",
        "    if driver.find_elements(By.CSS_SELECTOR, \".btn\") or driver.find_elements(\n",
        "            By.CSS_SELECTOR, \".e1ax5wel1\"):\n",
        "        print(f\"Cookie Not working - {filename}\")\n",
        "        driver.quit()\n",
        "    else:\n",
        "        print(f\"Working cookie found! - {filename}\")\n",
        "        try:\n",
        "            os.mkdir(working_cookies_path)\n",
        "            with open(f\"working_cookies/{filename})\", \"w\") as a:\n",
        "                a.write(content)\n",
        "            driver.quit()\n",
        "\n",
        "        except FileExistsError:\n",
        "            with open(f\"working_cookies/{filename}\", \"w\") as a:\n",
        "                a.write(content)\n",
        "            driver.quit()\n",
        "\n",
        "\n",
        "try:\n",
        "    for filename in os.listdir(\"json_cookies\"):\n",
        "        filepath = os.path.join(\"json_cookies\", filename)\n",
        "        if os.path.isfile(filepath):\n",
        "            with open(filepath, \"r\") as file:\n",
        "                content = file.read()\n",
        "\n",
        "                url = \"https://netflix.com/login\"\n",
        "\n",
        "            try:\n",
        "                cookies = load_cookies_from_json(filepath)\n",
        "                open_webpage_with_cookies(url, cookies)\n",
        "\n",
        "            except json.decoder.JSONDecodeError:\n",
        "                print(\n",
        "                    \"Please use cookie_converter.py to convert your cookies to json format\\n\"\n",
        "                )\n",
        "                break\n",
        "\n",
        "            except Exception as e:\n",
        "                print(f\"Error occurred: {str(e)} - {filename}\\n\")\n",
        "\n",
        "except FileNotFoundError:\n",
        "    print(\"Error occurred : 'json_cookies' folder not found!. Please read README.md\")\n"
      ],
      "metadata": {
        "id": "2BygIDyzanH6",
        "colab": {
          "base_uri": "https://localhost:8080/"
        },
        "outputId": "2fe73cdc-b59e-42c9-9df1-22b865f80142"
      },
      "execution_count": null,
      "outputs": [
        {
          "output_type": "stream",
          "name": "stdout",
          "text": [
            "Working cookie found! - [Premium - Premium] [cindylouu55@yahoo.com].txt\n",
            "Working cookie found! - [Premium - Premium] [moneylover09@yahoo.com].txt\n",
            "Cookie Not working - [Standart - Estándar] [mariaelena.deleon@gmail.com].txt\n",
            "Cookie Not working - [Premium - 高級] [daniel94092693@gmail.com].txt\n",
            "Cookie Not working - [Basic - Basic] [darnelljay4@gmail.com].txt\n",
            "Working cookie found! - [Premium - Premium] [chanthaheourn@gmail.com].txt\n",
            "Working cookie found! - [Premium - Premium] [aprilrael@yahoo.com].txt\n",
            "Working cookie found! - [Premium - Premium] [happy2bll@yahoo.com].txt\n",
            "Cookie Not working - [Standart - Standard] [martingalvarado32@icloud.com].txt\n",
            "Working cookie found! - [Premium - Premium] [donaldcadely@yahoo.com].txt\n",
            "Working cookie found! - [Premium - Cao cấp] [aldaludi@icloud.com].txt\n"
          ]
        }
      ]
    }
  ]
}